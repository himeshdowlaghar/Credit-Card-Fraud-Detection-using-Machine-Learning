{
  "nbformat": 4,
  "nbformat_minor": 0,
  "metadata": {
    "colab": {
      "provenance": [],
      "mount_file_id": "1wgs2jg2T92G-CgXO9aLwvHPWq_iNFEs7",
      "authorship_tag": "ABX9TyPGle4+t6TwpcAjiRadEfpX",
      "include_colab_link": true
    },
    "kernelspec": {
      "name": "python3",
      "display_name": "Python 3"
    },
    "language_info": {
      "name": "python"
    }
  },
  "cells": [
    {
      "cell_type": "markdown",
      "metadata": {
        "id": "view-in-github",
        "colab_type": "text"
      },
      "source": [
        "<a href=\"https://colab.research.google.com/github/himeshdowlaghar/Credit-Card-Fraud-Detection-using-Machine-Learning/blob/main/Credit_Card_Fraud_Detection_using_Logistic_Regression.ipynb\" target=\"_parent\"><img src=\"https://colab.research.google.com/assets/colab-badge.svg\" alt=\"Open In Colab\"/></a>"
      ]
    },
    {
      "cell_type": "code",
      "execution_count": null,
      "metadata": {
        "id": "1Koi5PSeZfw1",
        "colab": {
          "base_uri": "https://localhost:8080/"
        },
        "outputId": "22bb4510-7c8e-46f8-d85b-5d28ab582df4"
      },
      "outputs": [
        {
          "output_type": "stream",
          "name": "stderr",
          "text": [
            "/usr/local/lib/python3.10/dist-packages/sklearn/linear_model/_logistic.py:460: ConvergenceWarning: lbfgs failed to converge (status=1):\n",
            "STOP: TOTAL NO. of ITERATIONS REACHED LIMIT.\n",
            "\n",
            "Increase the number of iterations (max_iter) or scale the data as shown in:\n",
            "    https://scikit-learn.org/stable/modules/preprocessing.html\n",
            "Please also refer to the documentation for alternative solver options:\n",
            "    https://scikit-learn.org/stable/modules/linear_model.html#logistic-regression\n",
            "  n_iter_i = _check_optimize_result(\n"
          ]
        },
        {
          "output_type": "stream",
          "name": "stdout",
          "text": [
            "Accuracy of training: 0.9990475981478637\n",
            "Accuracy of Testing: 0.9989817773252344\n"
          ]
        }
      ],
      "source": [
        "\n",
        "import pandas as pd\n",
        "import numpy as np\n",
        "from sklearn.model_selection import train_test_split\n",
        "from sklearn.linear_model import LogisticRegression\n",
        "from sklearn.metrics import accuracy_score\n",
        "data= pd.read_csv('/content/drive/MyDrive/creditcard.csv')\n",
        "df=pd.DataFrame(data)\n",
        "df.head()\n",
        "df['Class'].value_counts()\n",
        "df.groupby('Class').mean()\n",
        "legit=df[df.Class==0]\n",
        "fraud=df[df.Class==1]\n",
        "\n",
        "\n",
        "new_legit=legit.sample(n=492)\n",
        "new_data=pd.concat([new_legit,fraud],axis=0)\n",
        "new_data.head()\n",
        "new_data['Class'].value_counts()\n",
        "\n",
        "\n",
        "x=df.drop('Class',axis=1)\n",
        "y=df['Class']\n",
        "x_train,x_test,y_train,y_test=train_test_split(x,y,test_size=0.2,random_state=42)\n",
        "\n",
        "model=LogisticRegression()\n",
        "model.fit(x_train,y_train)\n",
        "x_train_pred=model.predict(x_train)\n",
        "train_acc=accuracy_score(x_train_pred,y_train)\n",
        "print(\"Accuracy of training:\",train_acc)\n",
        "x_test_pred=model.predict(x_test)\n",
        "test_acc=accuracy_score(x_test_pred,y_test)\n",
        "print(\"Accuracy of Testing:\",test_acc)\n",
        "\n"
      ]
    },
    {
      "cell_type": "code",
      "source": [],
      "metadata": {
        "id": "ZJvRsHF-9lFD"
      },
      "execution_count": null,
      "outputs": []
    },
    {
      "cell_type": "code",
      "source": [],
      "metadata": {
        "id": "LjAUI3M3kTTK"
      },
      "execution_count": null,
      "outputs": []
    }
  ]
}